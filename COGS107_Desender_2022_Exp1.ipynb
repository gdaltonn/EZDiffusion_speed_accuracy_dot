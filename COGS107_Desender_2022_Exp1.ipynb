{
 "cells": [
  {
   "cell_type": "markdown",
   "id": "72644f51",
   "metadata": {},
   "source": [
    "# Speed-Accuracy Tradeoff in a Random Dot-Motion Experiment (using the EZ diffusion model)"
   ]
  },
  {
   "cell_type": "markdown",
   "id": "434415b0",
   "metadata": {},
   "source": [
    "## Import modules"
   ]
  },
  {
   "cell_type": "code",
   "execution_count": 1,
   "id": "178996dc-ea2a-4f94-9bae-d80462c53b0d",
   "metadata": {
    "slideshow": {
     "slide_type": "subslide"
    }
   },
   "outputs": [],
   "source": [
    "import pandas as pd\n",
    "import numpy as np"
   ]
  },
  {
   "cell_type": "markdown",
   "id": "03a311b2",
   "metadata": {},
   "source": [
    "## Dataset context"
   ]
  },
  {
   "cell_type": "markdown",
   "id": "da532596",
   "metadata": {},
   "source": [
    "Citation: Desender, K., Vermeylen, L., & Verguts, T. (2022). Dynamic influences on static measures of metacognition. Nature Communications. \n",
    "* csv: https://osf.io/4npq9\n",
    "* experiment context: https://osf.io/vup59\n",
    "* github repository: https://github.com/kdesende/dynamic_influences_on_static_measures/"
   ]
  },
  {
   "cell_type": "markdown",
   "id": "764a5d9d",
   "metadata": {},
   "source": [
    "Setup\n",
    "* **data**: are from experiment 1; they were collected online due to COVID-19\n",
    "* **stimulus**: random dot motion at a fixed coherence level (.2), leftwards vs rightwards motion\n",
    "* **manipulations**: there were two conditions (refered to in the column Condition): participants were instructed to i) focus on speed (\"Speed\"), or ii) focus on \"Accuracy\" (\"Accuracy\") when making their primary decision\n",
    "* **confidence scale**: six-point scale (\"certainly wrong\",\"probably wrong\",\"guess wrong\",\"guess correct\",\"probably correct\",\"certainly correct\")\n",
    "* **block size**: participants completed (at least) 3 practice blocks of 24 trials each, followed by 10 blocks of 60 trials\n",
    "* **feedback**: no feedback was given during the actual task\n",
    "* **training**: the task started with 24 practice trials (binary choices with feedback, coherence of .5), which was repeated until participants achieved >85% correct; next participants performed 24 practice trials (binary choices with feedback, coherence of .2), which was repeated until participants achieved >60% correct; finally, participants performed 24 practice trials (binary choices without feedback, but with confidence rating, coherence of .2), which was repeated until participants achieved >60% correct "
   ]
  },
  {
   "cell_type": "markdown",
   "id": "f85dae63",
   "metadata": {},
   "source": [
    "## Explore the data"
   ]
  },
  {
   "cell_type": "code",
   "execution_count": 2,
   "id": "c2cf1bf4",
   "metadata": {},
   "outputs": [
    {
     "data": {
      "text/html": [
       "<div>\n",
       "<style scoped>\n",
       "    .dataframe tbody tr th:only-of-type {\n",
       "        vertical-align: middle;\n",
       "    }\n",
       "\n",
       "    .dataframe tbody tr th {\n",
       "        vertical-align: top;\n",
       "    }\n",
       "\n",
       "    .dataframe thead th {\n",
       "        text-align: right;\n",
       "    }\n",
       "</style>\n",
       "<table border=\"1\" class=\"dataframe\">\n",
       "  <thead>\n",
       "    <tr style=\"text-align: right;\">\n",
       "      <th></th>\n",
       "      <th>Subj_idx</th>\n",
       "      <th>Stimulus</th>\n",
       "      <th>Response</th>\n",
       "      <th>Confidence</th>\n",
       "      <th>RT_dec</th>\n",
       "      <th>RT_conf</th>\n",
       "      <th>Coherence</th>\n",
       "      <th>Condition</th>\n",
       "      <th>Training</th>\n",
       "    </tr>\n",
       "  </thead>\n",
       "  <tbody>\n",
       "    <tr>\n",
       "      <th>0</th>\n",
       "      <td>143</td>\n",
       "      <td>1</td>\n",
       "      <td>0</td>\n",
       "      <td>NaN</td>\n",
       "      <td>NaN</td>\n",
       "      <td>NaN</td>\n",
       "      <td>0.5</td>\n",
       "      <td>speed</td>\n",
       "      <td>1</td>\n",
       "    </tr>\n",
       "    <tr>\n",
       "      <th>1</th>\n",
       "      <td>143</td>\n",
       "      <td>1</td>\n",
       "      <td>1</td>\n",
       "      <td>NaN</td>\n",
       "      <td>2.611815</td>\n",
       "      <td>NaN</td>\n",
       "      <td>0.5</td>\n",
       "      <td>speed</td>\n",
       "      <td>1</td>\n",
       "    </tr>\n",
       "    <tr>\n",
       "      <th>2</th>\n",
       "      <td>143</td>\n",
       "      <td>1</td>\n",
       "      <td>0</td>\n",
       "      <td>NaN</td>\n",
       "      <td>3.106495</td>\n",
       "      <td>NaN</td>\n",
       "      <td>0.5</td>\n",
       "      <td>speed</td>\n",
       "      <td>1</td>\n",
       "    </tr>\n",
       "    <tr>\n",
       "      <th>3</th>\n",
       "      <td>143</td>\n",
       "      <td>0</td>\n",
       "      <td>0</td>\n",
       "      <td>NaN</td>\n",
       "      <td>1.050790</td>\n",
       "      <td>NaN</td>\n",
       "      <td>0.5</td>\n",
       "      <td>speed</td>\n",
       "      <td>1</td>\n",
       "    </tr>\n",
       "    <tr>\n",
       "      <th>4</th>\n",
       "      <td>143</td>\n",
       "      <td>0</td>\n",
       "      <td>0</td>\n",
       "      <td>NaN</td>\n",
       "      <td>1.077620</td>\n",
       "      <td>NaN</td>\n",
       "      <td>0.5</td>\n",
       "      <td>speed</td>\n",
       "      <td>1</td>\n",
       "    </tr>\n",
       "  </tbody>\n",
       "</table>\n",
       "</div>"
      ],
      "text/plain": [
       "   Subj_idx  Stimulus  Response  Confidence    RT_dec  RT_conf  Coherence  \\\n",
       "0       143         1         0         NaN       NaN      NaN        0.5   \n",
       "1       143         1         1         NaN  2.611815      NaN        0.5   \n",
       "2       143         1         0         NaN  3.106495      NaN        0.5   \n",
       "3       143         0         0         NaN  1.050790      NaN        0.5   \n",
       "4       143         0         0         NaN  1.077620      NaN        0.5   \n",
       "\n",
       "  Condition  Training  \n",
       "0     speed         1  \n",
       "1     speed         1  \n",
       "2     speed         1  \n",
       "3     speed         1  \n",
       "4     speed         1  "
      ]
     },
     "execution_count": 2,
     "metadata": {},
     "output_type": "execute_result"
    }
   ],
   "source": [
    "df = pd.read_csv('data_Desender_2022_Exp1.csv')\n",
    "df.head()"
   ]
  },
  {
   "cell_type": "code",
   "execution_count": 3,
   "id": "3e938811",
   "metadata": {},
   "outputs": [
    {
     "name": "stdout",
     "output_type": "stream",
     "text": [
      "<class 'pandas.core.frame.DataFrame'>\n",
      "RangeIndex: 30744 entries, 0 to 30743\n",
      "Data columns (total 9 columns):\n",
      " #   Column      Non-Null Count  Dtype  \n",
      "---  ------      --------------  -----  \n",
      " 0   Subj_idx    30744 non-null  int64  \n",
      " 1   Stimulus    30744 non-null  int64  \n",
      " 2   Response    30744 non-null  int64  \n",
      " 3   Confidence  26976 non-null  float64\n",
      " 4   RT_dec      30645 non-null  float64\n",
      " 5   RT_conf     26976 non-null  float64\n",
      " 6   Coherence   30744 non-null  float64\n",
      " 7   Condition   30744 non-null  object \n",
      " 8   Training    30744 non-null  int64  \n",
      "dtypes: float64(4), int64(4), object(1)\n",
      "memory usage: 2.1+ MB\n"
     ]
    }
   ],
   "source": [
    "len(df)\n",
    "df.info()"
   ]
  },
  {
   "cell_type": "code",
   "execution_count": 4,
   "id": "0d3eb721",
   "metadata": {},
   "outputs": [
    {
     "name": "stdout",
     "output_type": "stream",
     "text": [
      "[143 142 141 140 139 138 137 136 135 134 133 132 131 130 129 128 127 126\n",
      " 125 124 123 122 121 120 119 118 117 116 115 114 113 112 111 110 109 108\n",
      " 107 106 105 104 103 102 101]\n",
      "43\n"
     ]
    }
   ],
   "source": [
    "print(df['Subj_idx'].unique())\n",
    "print(df['Subj_idx'].nunique())"
   ]
  },
  {
   "cell_type": "markdown",
   "id": "68c9bebe",
   "metadata": {},
   "source": [
    "## Data cleaning"
   ]
  },
  {
   "cell_type": "code",
   "execution_count": 5,
   "id": "cea781d8",
   "metadata": {},
   "outputs": [
    {
     "name": "stdout",
     "output_type": "stream",
     "text": [
      "Empty DataFrame\n",
      "Columns: [Subj_idx, Stimulus, Response, Confidence, RT_dec, RT_conf, Coherence, Condition, Training]\n",
      "Index: []\n"
     ]
    }
   ],
   "source": [
    "df.duplicated().sum()\n",
    "df = df.drop_duplicates(keep=False)\n",
    "print(df[df.duplicated()])"
   ]
  },
  {
   "cell_type": "code",
   "execution_count": 6,
   "id": "8548d74f",
   "metadata": {},
   "outputs": [
    {
     "data": {
      "text/plain": [
       "Subj_idx      0\n",
       "Stimulus      0\n",
       "Response      0\n",
       "Confidence    0\n",
       "RT_dec        0\n",
       "RT_conf       0\n",
       "Coherence     0\n",
       "Condition     0\n",
       "Training      0\n",
       "dtype: int64"
      ]
     },
     "execution_count": 6,
     "metadata": {},
     "output_type": "execute_result"
    }
   ],
   "source": [
    "df = df.dropna()\n",
    "df.isnull().sum()"
   ]
  },
  {
   "cell_type": "code",
   "execution_count": 7,
   "id": "5caea278",
   "metadata": {},
   "outputs": [
    {
     "data": {
      "text/html": [
       "<div>\n",
       "<style scoped>\n",
       "    .dataframe tbody tr th:only-of-type {\n",
       "        vertical-align: middle;\n",
       "    }\n",
       "\n",
       "    .dataframe tbody tr th {\n",
       "        vertical-align: top;\n",
       "    }\n",
       "\n",
       "    .dataframe thead th {\n",
       "        text-align: right;\n",
       "    }\n",
       "</style>\n",
       "<table border=\"1\" class=\"dataframe\">\n",
       "  <thead>\n",
       "    <tr style=\"text-align: right;\">\n",
       "      <th></th>\n",
       "      <th>Subj_idx</th>\n",
       "      <th>Stimulus</th>\n",
       "      <th>Response</th>\n",
       "      <th>RT_dec</th>\n",
       "      <th>Coherence</th>\n",
       "      <th>Condition</th>\n",
       "    </tr>\n",
       "  </thead>\n",
       "  <tbody>\n",
       "    <tr>\n",
       "      <th>72</th>\n",
       "      <td>143</td>\n",
       "      <td>1</td>\n",
       "      <td>1</td>\n",
       "      <td>0.628250</td>\n",
       "      <td>0.2</td>\n",
       "      <td>speed</td>\n",
       "    </tr>\n",
       "    <tr>\n",
       "      <th>73</th>\n",
       "      <td>143</td>\n",
       "      <td>0</td>\n",
       "      <td>0</td>\n",
       "      <td>0.772160</td>\n",
       "      <td>0.2</td>\n",
       "      <td>speed</td>\n",
       "    </tr>\n",
       "    <tr>\n",
       "      <th>74</th>\n",
       "      <td>143</td>\n",
       "      <td>1</td>\n",
       "      <td>1</td>\n",
       "      <td>0.847125</td>\n",
       "      <td>0.2</td>\n",
       "      <td>speed</td>\n",
       "    </tr>\n",
       "    <tr>\n",
       "      <th>75</th>\n",
       "      <td>143</td>\n",
       "      <td>1</td>\n",
       "      <td>0</td>\n",
       "      <td>0.719910</td>\n",
       "      <td>0.2</td>\n",
       "      <td>speed</td>\n",
       "    </tr>\n",
       "    <tr>\n",
       "      <th>76</th>\n",
       "      <td>143</td>\n",
       "      <td>1</td>\n",
       "      <td>1</td>\n",
       "      <td>0.759140</td>\n",
       "      <td>0.2</td>\n",
       "      <td>speed</td>\n",
       "    </tr>\n",
       "    <tr>\n",
       "      <th>...</th>\n",
       "      <td>...</td>\n",
       "      <td>...</td>\n",
       "      <td>...</td>\n",
       "      <td>...</td>\n",
       "      <td>...</td>\n",
       "      <td>...</td>\n",
       "    </tr>\n",
       "    <tr>\n",
       "      <th>30739</th>\n",
       "      <td>101</td>\n",
       "      <td>0</td>\n",
       "      <td>1</td>\n",
       "      <td>0.229660</td>\n",
       "      <td>0.2</td>\n",
       "      <td>accuracy</td>\n",
       "    </tr>\n",
       "    <tr>\n",
       "      <th>30740</th>\n",
       "      <td>101</td>\n",
       "      <td>0</td>\n",
       "      <td>1</td>\n",
       "      <td>0.255830</td>\n",
       "      <td>0.2</td>\n",
       "      <td>accuracy</td>\n",
       "    </tr>\n",
       "    <tr>\n",
       "      <th>30741</th>\n",
       "      <td>101</td>\n",
       "      <td>0</td>\n",
       "      <td>0</td>\n",
       "      <td>0.215480</td>\n",
       "      <td>0.2</td>\n",
       "      <td>accuracy</td>\n",
       "    </tr>\n",
       "    <tr>\n",
       "      <th>30742</th>\n",
       "      <td>101</td>\n",
       "      <td>1</td>\n",
       "      <td>0</td>\n",
       "      <td>0.010320</td>\n",
       "      <td>0.2</td>\n",
       "      <td>accuracy</td>\n",
       "    </tr>\n",
       "    <tr>\n",
       "      <th>30743</th>\n",
       "      <td>101</td>\n",
       "      <td>0</td>\n",
       "      <td>1</td>\n",
       "      <td>0.197310</td>\n",
       "      <td>0.2</td>\n",
       "      <td>accuracy</td>\n",
       "    </tr>\n",
       "  </tbody>\n",
       "</table>\n",
       "<p>25622 rows × 6 columns</p>\n",
       "</div>"
      ],
      "text/plain": [
       "       Subj_idx  Stimulus  Response    RT_dec  Coherence Condition\n",
       "72          143         1         1  0.628250        0.2     speed\n",
       "73          143         0         0  0.772160        0.2     speed\n",
       "74          143         1         1  0.847125        0.2     speed\n",
       "75          143         1         0  0.719910        0.2     speed\n",
       "76          143         1         1  0.759140        0.2     speed\n",
       "...         ...       ...       ...       ...        ...       ...\n",
       "30739       101         0         1  0.229660        0.2  accuracy\n",
       "30740       101         0         1  0.255830        0.2  accuracy\n",
       "30741       101         0         0  0.215480        0.2  accuracy\n",
       "30742       101         1         0  0.010320        0.2  accuracy\n",
       "30743       101         0         1  0.197310        0.2  accuracy\n",
       "\n",
       "[25622 rows x 6 columns]"
      ]
     },
     "execution_count": 7,
     "metadata": {},
     "output_type": "execute_result"
    }
   ],
   "source": [
    "df = df.drop(df[df['Training'] == 1].index) #drop training trials\n",
    "df = df.drop(['RT_conf', 'Confidence', 'Training'], axis=1) #drop columns\n",
    "df = df.drop(df[df['Coherence'] != .2].index) #drop trials where coherence levels aren't .2 (some training trials are .5)\n",
    "df"
   ]
  },
  {
   "cell_type": "markdown",
   "id": "8e73d9a8",
   "metadata": {},
   "source": [
    "## Hierarchical multiple decision makers (or conditions) for the EZ Diffusion Model"
   ]
  },
  {
   "cell_type": "markdown",
   "id": "2d32297b",
   "metadata": {},
   "source": [
    "For 1 subject:\n",
    "* trials should all be summed into 1 row\n",
    "* correct measures (hits and correct rejections) should all be summed into 1 row\n",
    "* meanRT is only for correct trials\n",
    "* varRT is only for correct trials"
   ]
  },
  {
   "cell_type": "markdown",
   "id": "00b0e2cb",
   "metadata": {},
   "source": [
    "### Split conditions into two separate data frames"
   ]
  },
  {
   "cell_type": "code",
   "execution_count": 8,
   "id": "f965fe3d",
   "metadata": {},
   "outputs": [
    {
     "name": "stdout",
     "output_type": "stream",
     "text": [
      "12576 13046\n",
      "True\n"
     ]
    }
   ],
   "source": [
    "# split conditions into 2 dataframes\n",
    "df_speed = df[df['Condition']=='speed']\n",
    "df_accuracy = df[df['Condition']=='accuracy']\n",
    "\n",
    "print(len(df_speed), len(df_accuracy))\n",
    "print((len(df_speed) + len(df_accuracy)) == len(df)) #make sure it matches"
   ]
  },
  {
   "cell_type": "markdown",
   "id": "6301e476",
   "metadata": {},
   "source": [
    "### Condense sujects so that 1 row = 1 subject"
   ]
  },
  {
   "cell_type": "code",
   "execution_count": 9,
   "id": "a99d7f40",
   "metadata": {},
   "outputs": [],
   "source": [
    "df_speed = df_speed.groupby(['Subj_idx'])\n",
    "df_accuracy = df_accuracy.groupby(['Subj_idx'])"
   ]
  },
  {
   "cell_type": "markdown",
   "id": "8729cc5b",
   "metadata": {},
   "source": [
    "### Calculate measures for both groups"
   ]
  },
  {
   "cell_type": "markdown",
   "id": "0c8194b5",
   "metadata": {},
   "source": [
    "For each subject (which counts as 1 row):\n",
    "* column 1: total number of trials\n",
    "* column 2: correct number of trials\n",
    "* column 3: mean RT for correct trials only\n",
    "* column 4: variance RT for correct trials only"
   ]
  },
  {
   "cell_type": "code",
   "execution_count": 10,
   "id": "6e67808b",
   "metadata": {},
   "outputs": [],
   "source": [
    "# calculate measures for speed condition\n",
    "ntrials_speed = df_speed.size()\n",
    "correct_speed = df_speed.apply(lambda x: (x['Stimulus'] == x['Response']).sum())\n",
    "meanRT_speed = df_speed.apply(lambda x: x[(x['Stimulus'] == x['Response'])]['RT_dec'].mean())\n",
    "varRT_speed = df_speed.apply(lambda x: x[(x['Stimulus'] == x['Response'])]['RT_dec'].var())\n",
    "\n",
    "# print(df_speed.apply(lambda x: x['RT_dec'].mean()))\n",
    "\n",
    "# calculate measures for accuracy condition\n",
    "ntrials_accuracy = df_accuracy.size()\n",
    "correct_accuracy = df_accuracy.apply(lambda x: (x['Stimulus'] == x['Response']).sum())\n",
    "meanRT_accuracy = df_accuracy.apply(lambda x: x[((x['Stimulus']==1) & (x['Response']==1)) | ((x['Stimulus']==0) & (x['Response']==0))]['RT_dec'].mean())\n",
    "varRT_accuracy = df_accuracy.apply(lambda x: x[((x['Stimulus']==1) & (x['Response']==1)) | ((x['Stimulus']==0) & (x['Response']==0))]['RT_dec'].var())"
   ]
  },
  {
   "cell_type": "code",
   "execution_count": 11,
   "id": "1f4e9a82",
   "metadata": {},
   "outputs": [
    {
     "name": "stdout",
     "output_type": "stream",
     "text": [
      "proportion correct in speed group: 0.7154103053435115\n",
      "mean RT for all speed: 0.912929205629773\n",
      "proportion correct in accuracy group: 0.7274260309673463\n",
      "mean RT for all accuracy: 0.8252389517857569\n"
     ]
    }
   ],
   "source": [
    "# proportion of correct/total\n",
    "# plot distn of RTs in speed and accuracy conditions\n",
    "# also take mean RT of speed condition and accuracy condition (instead of for individual subjects)\n",
    "\n",
    "# compare measures overall using group accuracy and mean RT of whole group\n",
    "overallcorrect_speed = correct_speed.sum() / ntrials_speed.sum()\n",
    "print(\"proportion correct in speed group:\", overallcorrect_speed)\n",
    "speed_rts = df[df['Condition']=='speed'][\"RT_dec\"].mean()\n",
    "print(\"mean RT for all speed:\", speed_rts)\n",
    "\n",
    "overallcorrect_accuracy = correct_accuracy.sum() / ntrials_accuracy.sum()\n",
    "print(\"proportion correct in accuracy group:\", overallcorrect_accuracy)\n",
    "accuracy_rts = df[df['Condition']=='accuracy'][\"RT_dec\"].mean()\n",
    "print(\"mean RT for all accuracy:\", accuracy_rts)\n"
   ]
  },
  {
   "cell_type": "markdown",
   "id": "a30e11b7",
   "metadata": {},
   "source": [
    "### Make hierarchical EZ diffusion dataframe"
   ]
  },
  {
   "cell_type": "code",
   "execution_count": 12,
   "id": "9bacbc5d",
   "metadata": {},
   "outputs": [],
   "source": [
    "# create EZ diffusion model df for speed condition\n",
    "df_speed = pd.DataFrame({\n",
    "    'trials' : ntrials_speed,\n",
    "    'correct' : correct_speed,\n",
    "    'meanRT' : meanRT_speed,\n",
    "    'varRT' : varRT_speed\n",
    "}).reset_index()\n",
    "\n",
    "# create EZ diffusion model df for accuracy condition\n",
    "df_accuracy = pd.DataFrame({\n",
    "    'trials' : ntrials_accuracy,\n",
    "    'correct' : correct_accuracy,\n",
    "    'meanRT' : meanRT_accuracy,\n",
    "    'varRT' : varRT_accuracy\n",
    "}).reset_index()"
   ]
  },
  {
   "cell_type": "markdown",
   "id": "95e19f24",
   "metadata": {},
   "source": [
    "## Save files"
   ]
  },
  {
   "cell_type": "code",
   "execution_count": 13,
   "id": "454d5d0a",
   "metadata": {},
   "outputs": [
    {
     "name": "stdout",
     "output_type": "stream",
     "text": [
      "Data saved successfully to COGS107_Desender_speed.csv\n",
      "Data saved successfully to COGS107_Desender_accuracy.csv\n"
     ]
    }
   ],
   "source": [
    "# write data out to 2 separate csv files\n",
    "filename = 'COGS107_Desender_speed.csv'\n",
    "df_speed.to_csv(filename, index=False) \n",
    "print('Data saved successfully to', filename)\n",
    "\n",
    "filename = 'COGS107_Desender_accuracy.csv'\n",
    "df_accuracy.to_csv(filename, index=False) \n",
    "print('Data saved successfully to', filename)"
   ]
  }
 ],
 "metadata": {
  "celltoolbar": "Slideshow",
  "kernelspec": {
   "display_name": "Python 3 (ipykernel)",
   "language": "python",
   "name": "python3"
  },
  "language_info": {
   "codemirror_mode": {
    "name": "ipython",
    "version": 3
   },
   "file_extension": ".py",
   "mimetype": "text/x-python",
   "name": "python",
   "nbconvert_exporter": "python",
   "pygments_lexer": "ipython3",
   "version": "3.11.4"
  }
 },
 "nbformat": 4,
 "nbformat_minor": 5
}
